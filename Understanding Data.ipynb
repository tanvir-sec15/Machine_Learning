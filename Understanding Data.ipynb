{
 "cells": [
  {
   "cell_type": "code",
   "execution_count": 1,
   "id": "afd854a5",
   "metadata": {},
   "outputs": [],
   "source": [
    "import pandas as pd\n",
    "import numpy as np"
   ]
  },
  {
   "cell_type": "markdown",
   "id": "d46bcb68",
   "metadata": {},
   "source": [
    "## Understanding Dataset"
   ]
  },
  {
   "cell_type": "code",
   "execution_count": 2,
   "id": "314438cc",
   "metadata": {},
   "outputs": [],
   "source": [
    "## To understand any dataset 7 things are important to know primarily \n",
    "\n",
    "df=pd.read_csv(\"D:\\Machine_Learning\\Titanic-Dataset.csv\")"
   ]
  },
  {
   "cell_type": "markdown",
   "id": "b121ce97",
   "metadata": {},
   "source": [
    "### 1. How big is the data ??"
   ]
  },
  {
   "cell_type": "code",
   "execution_count": null,
   "id": "d0282173",
   "metadata": {},
   "outputs": [
    {
     "data": {
      "text/plain": [
       "(891, 12)"
      ]
     },
     "execution_count": 10,
     "metadata": {},
     "output_type": "execute_result"
    }
   ],
   "source": [
    "df.shape"
   ]
  },
  {
   "cell_type": "markdown",
   "id": "2326a61c",
   "metadata": {},
   "source": [
    "#### 2. How does the data look like ?"
   ]
  },
  {
   "cell_type": "code",
   "execution_count": 13,
   "id": "349a01d2",
   "metadata": {},
   "outputs": [
    {
     "data": {
      "text/html": [
       "<div>\n",
       "<style scoped>\n",
       "    .dataframe tbody tr th:only-of-type {\n",
       "        vertical-align: middle;\n",
       "    }\n",
       "\n",
       "    .dataframe tbody tr th {\n",
       "        vertical-align: top;\n",
       "    }\n",
       "\n",
       "    .dataframe thead th {\n",
       "        text-align: right;\n",
       "    }\n",
       "</style>\n",
       "<table border=\"1\" class=\"dataframe\">\n",
       "  <thead>\n",
       "    <tr style=\"text-align: right;\">\n",
       "      <th></th>\n",
       "      <th>PassengerId</th>\n",
       "      <th>Survived</th>\n",
       "      <th>Pclass</th>\n",
       "      <th>Name</th>\n",
       "      <th>Sex</th>\n",
       "      <th>Age</th>\n",
       "      <th>SibSp</th>\n",
       "      <th>Parch</th>\n",
       "      <th>Ticket</th>\n",
       "      <th>Fare</th>\n",
       "      <th>Cabin</th>\n",
       "      <th>Embarked</th>\n",
       "    </tr>\n",
       "  </thead>\n",
       "  <tbody>\n",
       "    <tr>\n",
       "      <th>373</th>\n",
       "      <td>374</td>\n",
       "      <td>0</td>\n",
       "      <td>1</td>\n",
       "      <td>Ringhini, Mr. Sante</td>\n",
       "      <td>male</td>\n",
       "      <td>22.00</td>\n",
       "      <td>0</td>\n",
       "      <td>0</td>\n",
       "      <td>PC 17760</td>\n",
       "      <td>135.6333</td>\n",
       "      <td>NaN</td>\n",
       "      <td>C</td>\n",
       "    </tr>\n",
       "    <tr>\n",
       "      <th>337</th>\n",
       "      <td>338</td>\n",
       "      <td>1</td>\n",
       "      <td>1</td>\n",
       "      <td>Burns, Miss. Elizabeth Margaret</td>\n",
       "      <td>female</td>\n",
       "      <td>41.00</td>\n",
       "      <td>0</td>\n",
       "      <td>0</td>\n",
       "      <td>16966</td>\n",
       "      <td>134.5000</td>\n",
       "      <td>E40</td>\n",
       "      <td>C</td>\n",
       "    </tr>\n",
       "    <tr>\n",
       "      <th>432</th>\n",
       "      <td>433</td>\n",
       "      <td>1</td>\n",
       "      <td>2</td>\n",
       "      <td>Louch, Mrs. Charles Alexander (Alice Adelaide ...</td>\n",
       "      <td>female</td>\n",
       "      <td>42.00</td>\n",
       "      <td>1</td>\n",
       "      <td>0</td>\n",
       "      <td>SC/AH 3085</td>\n",
       "      <td>26.0000</td>\n",
       "      <td>NaN</td>\n",
       "      <td>S</td>\n",
       "    </tr>\n",
       "    <tr>\n",
       "      <th>755</th>\n",
       "      <td>756</td>\n",
       "      <td>1</td>\n",
       "      <td>2</td>\n",
       "      <td>Hamalainen, Master. Viljo</td>\n",
       "      <td>male</td>\n",
       "      <td>0.67</td>\n",
       "      <td>1</td>\n",
       "      <td>1</td>\n",
       "      <td>250649</td>\n",
       "      <td>14.5000</td>\n",
       "      <td>NaN</td>\n",
       "      <td>S</td>\n",
       "    </tr>\n",
       "    <tr>\n",
       "      <th>14</th>\n",
       "      <td>15</td>\n",
       "      <td>0</td>\n",
       "      <td>3</td>\n",
       "      <td>Vestrom, Miss. Hulda Amanda Adolfina</td>\n",
       "      <td>female</td>\n",
       "      <td>14.00</td>\n",
       "      <td>0</td>\n",
       "      <td>0</td>\n",
       "      <td>350406</td>\n",
       "      <td>7.8542</td>\n",
       "      <td>NaN</td>\n",
       "      <td>S</td>\n",
       "    </tr>\n",
       "  </tbody>\n",
       "</table>\n",
       "</div>"
      ],
      "text/plain": [
       "     PassengerId  Survived  Pclass  \\\n",
       "373          374         0       1   \n",
       "337          338         1       1   \n",
       "432          433         1       2   \n",
       "755          756         1       2   \n",
       "14            15         0       3   \n",
       "\n",
       "                                                  Name     Sex    Age  SibSp  \\\n",
       "373                                Ringhini, Mr. Sante    male  22.00      0   \n",
       "337                    Burns, Miss. Elizabeth Margaret  female  41.00      0   \n",
       "432  Louch, Mrs. Charles Alexander (Alice Adelaide ...  female  42.00      1   \n",
       "755                          Hamalainen, Master. Viljo    male   0.67      1   \n",
       "14                Vestrom, Miss. Hulda Amanda Adolfina  female  14.00      0   \n",
       "\n",
       "     Parch      Ticket      Fare Cabin Embarked  \n",
       "373      0    PC 17760  135.6333   NaN        C  \n",
       "337      0       16966  134.5000   E40        C  \n",
       "432      0  SC/AH 3085   26.0000   NaN        S  \n",
       "755      1      250649   14.5000   NaN        S  \n",
       "14       0      350406    7.8542   NaN        S  "
      ]
     },
     "execution_count": 13,
     "metadata": {},
     "output_type": "execute_result"
    }
   ],
   "source": [
    "df.sample(5)    ## Random 5 rows from the dataset\n",
    "\n",
    "# এইটা যেহেতু র‍্যান্ডম্লি ৫ টা রো দেখায়, তাই Dataset টা কেমন ধরনের সেটা বুঝার জন্য এইটা ভালো উপায় df.head() এর থেকে "
   ]
  },
  {
   "cell_type": "markdown",
   "id": "b77a12f6",
   "metadata": {},
   "source": [
    "### 3. What Type of data present in the coloumns?"
   ]
  },
  {
   "cell_type": "code",
   "execution_count": 14,
   "id": "a596ab00",
   "metadata": {},
   "outputs": [
    {
     "name": "stdout",
     "output_type": "stream",
     "text": [
      "<class 'pandas.core.frame.DataFrame'>\n",
      "RangeIndex: 891 entries, 0 to 890\n",
      "Data columns (total 12 columns):\n",
      " #   Column       Non-Null Count  Dtype  \n",
      "---  ------       --------------  -----  \n",
      " 0   PassengerId  891 non-null    int64  \n",
      " 1   Survived     891 non-null    int64  \n",
      " 2   Pclass       891 non-null    int64  \n",
      " 3   Name         891 non-null    object \n",
      " 4   Sex          891 non-null    object \n",
      " 5   Age          714 non-null    float64\n",
      " 6   SibSp        891 non-null    int64  \n",
      " 7   Parch        891 non-null    int64  \n",
      " 8   Ticket       891 non-null    object \n",
      " 9   Fare         891 non-null    float64\n",
      " 10  Cabin        204 non-null    object \n",
      " 11  Embarked     889 non-null    object \n",
      "dtypes: float64(2), int64(5), object(5)\n",
      "memory usage: 83.7+ KB\n"
     ]
    }
   ],
   "source": [
    "df.info()"
   ]
  },
  {
   "cell_type": "markdown",
   "id": "e4d1c9bf",
   "metadata": {},
   "source": [
    "### Are there any missing values ?"
   ]
  },
  {
   "cell_type": "code",
   "execution_count": null,
   "id": "9b9b59ab",
   "metadata": {},
   "outputs": [
    {
     "data": {
      "text/plain": [
       "PassengerId      0\n",
       "Survived         0\n",
       "Pclass           0\n",
       "Name             0\n",
       "Sex              0\n",
       "Age            177\n",
       "SibSp            0\n",
       "Parch            0\n",
       "Ticket           0\n",
       "Fare             0\n",
       "Cabin          687\n",
       "Embarked         2\n",
       "dtype: int64"
      ]
     },
     "execution_count": 15,
     "metadata": {},
     "output_type": "execute_result"
    }
   ],
   "source": [
    "df.isnull().sum()  #কলাম গুলাতে কয়টা মিসিং ভ্যালু আছে সেটা দেখাবে"
   ]
  },
  {
   "cell_type": "code",
   "execution_count": 21,
   "id": "3afdbd34",
   "metadata": {},
   "outputs": [],
   "source": [
    "## missing values গুলা ডিলিট করতে চাইলে\n",
    "df.dropna(inplace=True)"
   ]
  },
  {
   "cell_type": "code",
   "execution_count": 22,
   "id": "0fffdf5b",
   "metadata": {},
   "outputs": [
    {
     "data": {
      "text/plain": [
       "PassengerId    0\n",
       "Survived       0\n",
       "Pclass         0\n",
       "Name           0\n",
       "Sex            0\n",
       "Age            0\n",
       "SibSp          0\n",
       "Parch          0\n",
       "Ticket         0\n",
       "Fare           0\n",
       "Cabin          0\n",
       "Embarked       0\n",
       "dtype: int64"
      ]
     },
     "execution_count": 22,
     "metadata": {},
     "output_type": "execute_result"
    }
   ],
   "source": [
    "df.isnull().sum() # আবার চেক করে দেখলাম মিসিং ভ্যালু আছে কিনা"
   ]
  },
  {
   "cell_type": "code",
   "execution_count": 3,
   "id": "7539151a",
   "metadata": {},
   "outputs": [],
   "source": [
    "## Missing values গুলা mean , median , mode দিয়ে ফিল আপ করতে চাইলে\n",
    "df['Age']=df['Age'].fillna(df['Age'].mean())  #Age কলামে যদি কোনো missing value থাকে, তাহলে সেই জায়গায় পুরো কলামের গড় (mean) বসিয়ে দিচ্ছে।\n",
    "\n",
    " # age কলামের মিসিং ভ্যালু গুলা median/mode দিয়ে ফিল আপ করতে চাইলে জাস্ট mean এর জায়গায় median/mode বসিয়ে দিবে\n"
   ]
  },
  {
   "cell_type": "markdown",
   "id": "f8d04062",
   "metadata": {},
   "source": [
    "### 5. How does the data look mathematically ??"
   ]
  },
  {
   "cell_type": "code",
   "execution_count": 18,
   "id": "1d54e55c",
   "metadata": {},
   "outputs": [
    {
     "data": {
      "text/html": [
       "<div>\n",
       "<style scoped>\n",
       "    .dataframe tbody tr th:only-of-type {\n",
       "        vertical-align: middle;\n",
       "    }\n",
       "\n",
       "    .dataframe tbody tr th {\n",
       "        vertical-align: top;\n",
       "    }\n",
       "\n",
       "    .dataframe thead th {\n",
       "        text-align: right;\n",
       "    }\n",
       "</style>\n",
       "<table border=\"1\" class=\"dataframe\">\n",
       "  <thead>\n",
       "    <tr style=\"text-align: right;\">\n",
       "      <th></th>\n",
       "      <th>PassengerId</th>\n",
       "      <th>Survived</th>\n",
       "      <th>Pclass</th>\n",
       "      <th>Age</th>\n",
       "      <th>SibSp</th>\n",
       "      <th>Parch</th>\n",
       "      <th>Fare</th>\n",
       "    </tr>\n",
       "  </thead>\n",
       "  <tbody>\n",
       "    <tr>\n",
       "      <th>count</th>\n",
       "      <td>891.000000</td>\n",
       "      <td>891.000000</td>\n",
       "      <td>891.000000</td>\n",
       "      <td>714.000000</td>\n",
       "      <td>891.000000</td>\n",
       "      <td>891.000000</td>\n",
       "      <td>891.000000</td>\n",
       "    </tr>\n",
       "    <tr>\n",
       "      <th>mean</th>\n",
       "      <td>446.000000</td>\n",
       "      <td>0.383838</td>\n",
       "      <td>2.308642</td>\n",
       "      <td>29.699118</td>\n",
       "      <td>0.523008</td>\n",
       "      <td>0.381594</td>\n",
       "      <td>32.204208</td>\n",
       "    </tr>\n",
       "    <tr>\n",
       "      <th>std</th>\n",
       "      <td>257.353842</td>\n",
       "      <td>0.486592</td>\n",
       "      <td>0.836071</td>\n",
       "      <td>14.526497</td>\n",
       "      <td>1.102743</td>\n",
       "      <td>0.806057</td>\n",
       "      <td>49.693429</td>\n",
       "    </tr>\n",
       "    <tr>\n",
       "      <th>min</th>\n",
       "      <td>1.000000</td>\n",
       "      <td>0.000000</td>\n",
       "      <td>1.000000</td>\n",
       "      <td>0.420000</td>\n",
       "      <td>0.000000</td>\n",
       "      <td>0.000000</td>\n",
       "      <td>0.000000</td>\n",
       "    </tr>\n",
       "    <tr>\n",
       "      <th>25%</th>\n",
       "      <td>223.500000</td>\n",
       "      <td>0.000000</td>\n",
       "      <td>2.000000</td>\n",
       "      <td>20.125000</td>\n",
       "      <td>0.000000</td>\n",
       "      <td>0.000000</td>\n",
       "      <td>7.910400</td>\n",
       "    </tr>\n",
       "    <tr>\n",
       "      <th>50%</th>\n",
       "      <td>446.000000</td>\n",
       "      <td>0.000000</td>\n",
       "      <td>3.000000</td>\n",
       "      <td>28.000000</td>\n",
       "      <td>0.000000</td>\n",
       "      <td>0.000000</td>\n",
       "      <td>14.454200</td>\n",
       "    </tr>\n",
       "    <tr>\n",
       "      <th>75%</th>\n",
       "      <td>668.500000</td>\n",
       "      <td>1.000000</td>\n",
       "      <td>3.000000</td>\n",
       "      <td>38.000000</td>\n",
       "      <td>1.000000</td>\n",
       "      <td>0.000000</td>\n",
       "      <td>31.000000</td>\n",
       "    </tr>\n",
       "    <tr>\n",
       "      <th>max</th>\n",
       "      <td>891.000000</td>\n",
       "      <td>1.000000</td>\n",
       "      <td>3.000000</td>\n",
       "      <td>80.000000</td>\n",
       "      <td>8.000000</td>\n",
       "      <td>6.000000</td>\n",
       "      <td>512.329200</td>\n",
       "    </tr>\n",
       "  </tbody>\n",
       "</table>\n",
       "</div>"
      ],
      "text/plain": [
       "       PassengerId    Survived      Pclass         Age       SibSp  \\\n",
       "count   891.000000  891.000000  891.000000  714.000000  891.000000   \n",
       "mean    446.000000    0.383838    2.308642   29.699118    0.523008   \n",
       "std     257.353842    0.486592    0.836071   14.526497    1.102743   \n",
       "min       1.000000    0.000000    1.000000    0.420000    0.000000   \n",
       "25%     223.500000    0.000000    2.000000   20.125000    0.000000   \n",
       "50%     446.000000    0.000000    3.000000   28.000000    0.000000   \n",
       "75%     668.500000    1.000000    3.000000   38.000000    1.000000   \n",
       "max     891.000000    1.000000    3.000000   80.000000    8.000000   \n",
       "\n",
       "            Parch        Fare  \n",
       "count  891.000000  891.000000  \n",
       "mean     0.381594   32.204208  \n",
       "std      0.806057   49.693429  \n",
       "min      0.000000    0.000000  \n",
       "25%      0.000000    7.910400  \n",
       "50%      0.000000   14.454200  \n",
       "75%      0.000000   31.000000  \n",
       "max      6.000000  512.329200  "
      ]
     },
     "execution_count": 18,
     "metadata": {},
     "output_type": "execute_result"
    }
   ],
   "source": [
    "df.describe()  # Numerical কলাম গুলোর ম্যাথমেটিক্যাল ভ্যালু গুলো দেখাবে\n",
    "\n",
    "# mean ,Median , 25 percentile ,50 percentile , Standard Deviation , Maximum , Minimum etc.\n"
   ]
  },
  {
   "cell_type": "markdown",
   "id": "2a669b20",
   "metadata": {},
   "source": [
    "### 6. Are there duplicate values ??"
   ]
  },
  {
   "cell_type": "code",
   "execution_count": 19,
   "id": "5368bfee",
   "metadata": {},
   "outputs": [
    {
     "data": {
      "text/plain": [
       "np.int64(0)"
      ]
     },
     "execution_count": 19,
     "metadata": {},
     "output_type": "execute_result"
    }
   ],
   "source": [
    "df.duplicated().sum()  # কয়টা ডুপ্লিকেট রো আছে সেটা দেখাবে"
   ]
  },
  {
   "cell_type": "code",
   "execution_count": 20,
   "id": "d50c40c7",
   "metadata": {},
   "outputs": [],
   "source": [
    "## Duplicate রো গুলো ডিলিট করতে চাইলে\n",
    "df.drop_duplicates(inplace=True)"
   ]
  },
  {
   "cell_type": "markdown",
   "id": "ed4d180b",
   "metadata": {},
   "source": [
    "### 7. How is the correlation ?"
   ]
  },
  {
   "cell_type": "code",
   "execution_count": null,
   "id": "3201c20a",
   "metadata": {},
   "outputs": [
    {
     "name": "stdout",
     "output_type": "stream",
     "text": [
      "             PassengerId  Survived    Pclass       Age     SibSp     Parch  \\\n",
      "PassengerId     1.000000 -0.005007 -0.035144  0.033207 -0.057527 -0.001652   \n",
      "Survived       -0.005007  1.000000 -0.338481 -0.069809 -0.035322  0.081629   \n",
      "Pclass         -0.035144 -0.338481  1.000000 -0.331339  0.083081  0.018443   \n",
      "Age             0.033207 -0.069809 -0.331339  1.000000 -0.232625 -0.179191   \n",
      "SibSp          -0.057527 -0.035322  0.083081 -0.232625  1.000000  0.414838   \n",
      "Parch          -0.001652  0.081629  0.018443 -0.179191  0.414838  1.000000   \n",
      "Fare            0.012658  0.257307 -0.549500  0.091566  0.159651  0.216225   \n",
      "\n",
      "                 Fare  \n",
      "PassengerId  0.012658  \n",
      "Survived     0.257307  \n",
      "Pclass      -0.549500  \n",
      "Age          0.091566  \n",
      "SibSp        0.159651  \n",
      "Parch        0.216225  \n",
      "Fare         1.000000  \n"
     ]
    }
   ],
   "source": [
    "Numeric_Coloumn = df.select_dtypes(include='number') # কলাম গুলোর মধ্যে কেমন সম্পর্ক আছে সেটা দেখাবে\n",
    "correlation = Numeric_Coloumn.corr()\n",
    "print(correlation)\n",
    "\n",
    "## Correlation কেবল মাত্র Numeric Coloumn এর মধ্যেই হয় , Categorical Coloumn এর মধ্যে হয় না, যেমন - Name । এরজন্য আগে Numeric Coloumn গুলা আলাদা করে নিতে হয়\n",
    "\n",
    "'''Correlation এর মান -1 থেকে +1 এর মধ্যে থাকে .... + hole মানে positive correlation : একটা কলামের ভ্যালু বাড়লে অইটাও বাড়বে , - hole মানে negative correlation : একটা কলামের ভ্যালু বাড়লে অইটা কমবে'''"
   ]
  },
  {
   "cell_type": "markdown",
   "id": "3f90cc63",
   "metadata": {},
   "source": [
    "#### যদি নির্দিষ্ট কোনো কলামের সাথে বাকি সব কলামের  রিলেশন দেখতে চাও !"
   ]
  },
  {
   "cell_type": "code",
   "execution_count": 14,
   "id": "b62e396f",
   "metadata": {},
   "outputs": [
    {
     "name": "stdout",
     "output_type": "stream",
     "text": [
      "PassengerId   -0.005007\n",
      "Survived       1.000000\n",
      "Pclass        -0.338481\n",
      "Age           -0.069809\n",
      "SibSp         -0.035322\n",
      "Parch          0.081629\n",
      "Fare           0.257307\n",
      "Name: Survived, dtype: float64\n"
     ]
    }
   ],
   "source": [
    "correlation_on_Survival= Numeric_Coloumn.corr()['Survived']\n",
    "print(correlation_on_Survival)"
   ]
  }
 ],
 "metadata": {
  "kernelspec": {
   "display_name": "ml_env",
   "language": "python",
   "name": "python3"
  },
  "language_info": {
   "codemirror_mode": {
    "name": "ipython",
    "version": 3
   },
   "file_extension": ".py",
   "mimetype": "text/x-python",
   "name": "python",
   "nbconvert_exporter": "python",
   "pygments_lexer": "ipython3",
   "version": "3.11.13"
  }
 },
 "nbformat": 4,
 "nbformat_minor": 5
}
